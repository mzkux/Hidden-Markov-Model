{
  "cells": [
    {
      "cell_type": "markdown",
      "metadata": {
        "id": "D0eqJCZLLeRt"
      },
      "source": []
    },
    {
      "cell_type": "markdown",
      "metadata": {
        "id": "OAUdOZO0Lg5k"
      },
      "source": [
        "# Robot Localization in a maze\n",
        "\n",
        "Imagine you have a patrolling robot which moves in an indoor environment (in a “maze”). You have a map of the maze, but neither the maze, nor the robot is equipped with sensors of\n",
        "the absolute position of the robot. You have to estimate its position, i.e. estimate its hidden state, from a sequence of observations.\n",
        "\n",
        "<sup><sub>Homework modified from BE3M33UI - Artificial Intelligence course</sub></sup>\n",
        "## Robot Movements\n",
        "The robot can move one step north, east, south, or west. Each time slice, the robot issues a move\n",
        "command, but the actual movement direction is chosen randomly. The probability distribution\n",
        "over these directions is known and in many positions,\n",
        "only some of these directions are admissible (because of walls). In that case, the robot chooses only among the\n",
        "admissible directions. (This information shall be sufficient to compute the transition model\n",
        "$P(X_t|X_{t−1})$ where $X_t$\n",
        "is the position of the robot at time $t$.)\n",
        "\n",
        "## Robot Observations\n",
        "The robot is equipped with four “near-far sensors” which provide a very rough information\n",
        "about the distance to the nearest walls in specified directions. The output of each of the four\n",
        "sensors is either 'n' or 'f', meaning that the wall is near or far. Moreover, the sensor information is noisy in the sense that the probability of returning symbol 'n' grows with decreasing\n",
        "distance to wall and vice versa for symbol 'f'. The four sensors are independent.\n",
        "There are 24 = 16 possible observations: from (n,n,n,n) to (f,f,f,f). (This shall be sufficient to\n",
        "compute the emission model $P(E_t\n",
        "|Xt)$.)\n",
        "\n",
        "## Code\n",
        "You are provided with the following classes which implements the “robot in a maze” environment as a HMM\n",
        "\n"
      ]
    },
    {
      "cell_type": "code",
      "execution_count": 131,
      "metadata": {
        "id": "xBWrSE3VG_vI"
      },
      "outputs": [],
      "source": [
        "# Code modified from BE3M33UI - Artificial Intelligence course\n",
        "\n",
        "import random\n",
        "from collections import Counter\n",
        "from itertools import product\n",
        "import itertools\n",
        "import matplotlib.pyplot as plt\n",
        "import bisect\n",
        "\n",
        "NORTH = (-1, 0)\n",
        "EAST = (0, 1)\n",
        "SOUTH = (1, 0)\n",
        "WEST = (0, -1)\n",
        "ALL_DIRS = (NORTH, EAST, SOUTH, WEST)\n",
        "\n",
        "DEFAULT_MOVE_PROBS = {\n",
        "    NORTH: 0.25,\n",
        "    EAST: 0.25,\n",
        "    SOUTH: 0.25,\n",
        "    WEST: 0.25\n",
        "}\n",
        "\n",
        "def weighted_random_choice(pdist):\n",
        "    \"\"\"Choose an element from distribution given as dict of values and their probs.\"\"\"\n",
        "    weighted_choices = [(k,v) for k,v in pdist.items()]\n",
        "    choices, weights = zip(*weighted_choices)\n",
        "    cumdist = list(itertools.accumulate(weights))\n",
        "    x = random.random() * cumdist[-1]\n",
        "    return choices[bisect.bisect(cumdist, x)]\n",
        "\n",
        "def normalized(P, factor=None, return_normalization_factor=False):\n",
        "    \"\"\"Return a normalized copy of the distribution given as a Counter\"\"\"\n",
        "    if not factor:\n",
        "        s = sum(P.values())\n",
        "        factor = 1 / s\n",
        "    norm = Counter({k: factor*v for k, v in P.items()})\n",
        "    if return_normalization_factor:\n",
        "        return norm, factor\n",
        "    else:\n",
        "        return norm\n",
        "\n",
        "def add(s, dir):\n",
        "    \"\"\"Add direction to a state\"\"\"\n",
        "    return tuple(a+b for a, b in zip(s, dir))\n",
        "\n",
        "\n",
        "def direction(s1, s2):\n",
        "    \"\"\"Return a direction vector from s1 to s2\"\"\"\n",
        "    return tuple(b-a for a, b in zip(s1, s2))\n",
        "\n",
        "\n",
        "def manhattan(s1, s2):\n",
        "    return sum(abs(a) for a in direction(s1, s2))\n",
        "\n",
        "\n",
        "class Maze:\n",
        "    \"\"\"Representation of a maze\"\"\"\n",
        "\n",
        "    WALL_CHAR = '#'\n",
        "    FREE_CHAR = ' '\n",
        "\n",
        "    def __init__(self, map):\n",
        "        self.load_map(map)\n",
        "        self._free_positions = []\n",
        "        self._grid = []\n",
        "        \n",
        "\n",
        "    def load_map(self, map_fname):\n",
        "        \"\"\"Load map from a text file\"\"\"\n",
        "        self.map = []\n",
        "        with open(map_fname, 'rt', encoding='utf-8') as f:\n",
        "            for line in f:\n",
        "                line = line.strip()\n",
        "                if not line: continue\n",
        "                self.map.append(line)\n",
        "        self.map = tuple(self.map)\n",
        "        self.height = len(self.map)\n",
        "        self.width = len(self.map[0])\n",
        "        self.min_pos = (1, 1)\n",
        "        self.max_pos = (len(self.map)-2, len(self.map[0])-2)\n",
        "\n",
        "    def __str__(self):\n",
        "        \"\"\"Return a string representation of the maze\"\"\"\n",
        "        return '\\n'.join(self.map)\n",
        "\n",
        "    def is_free(self, pos):\n",
        "        \"\"\"Check whether a position is free\n",
        "        \n",
        "        :param pos: position as (row, column)\n",
        "        :return: True or False\n",
        "        \"\"\"\n",
        "        return self.map[pos[0]][pos[1]] == self.FREE_CHAR\n",
        "\n",
        "    def is_wall(self, pos):\n",
        "        \"\"\"Check whether a position contains a wall\n",
        "\n",
        "        :param pos: position as (row, column)\n",
        "        :return: True or False\n",
        "        \"\"\"\n",
        "        return self.map[pos[0]][pos[1]] == self.WALL_CHAR\n",
        "\n",
        "    def get_free_positions(self, search=False):\n",
        "        \"\"\"Return a list of all free positions in the maze\n",
        "        \n",
        "        It returns a cached list, if the free positions were already precomputed.\n",
        "        \"\"\"\n",
        "        # If free positions already found and shouldn't find them anew\n",
        "        if self._free_positions and not search:\n",
        "            return self._free_positions\n",
        "        fp = []\n",
        "        for r in range(1, self.height-1):\n",
        "            for c in range(1, self.width-1):\n",
        "                pos = (r, c)\n",
        "                if self.is_free(pos):\n",
        "                    fp.append(pos)\n",
        "        self._free_positions = fp\n",
        "        return fp\n",
        "\n",
        "    def get_wall_positions(self):\n",
        "        \"\"\"Return a list of all maze positions containing walls\"\"\"\n",
        "        wp = []\n",
        "        for r in range(0, self.height):\n",
        "            for c in range(0, self.width):\n",
        "                pos = (r, c)\n",
        "                if self.is_wall(pos):\n",
        "                    wp.append(pos)\n",
        "        return wp\n",
        "\n",
        "    def get_dist_to_wall(self, pos, dir):\n",
        "        \"\"\"Return the distance to the nearest wall.\n",
        "        \n",
        "        Distance is the number of steps one can make from\n",
        "        the given position to the closest wall in the given direction.\n",
        "        \n",
        "        :param pos: (row, column) tuple \n",
        "        :param dir: One of the following:\n",
        "                    (-1, 0) ... north\n",
        "                    (0, 1) ... east\n",
        "                    (1, 0) ... south\n",
        "                    (0, -1) ... west\n",
        "        :return: int, distance to wall\n",
        "        \"\"\"\n",
        "        if pos not in self.get_free_positions():\n",
        "            raise ValueError('The specified robot position is not allowable. Did you use (row, column)?')\n",
        "        d = 0\n",
        "        while True:\n",
        "            pos = add(pos, dir)\n",
        "            if not self.is_free(pos):\n",
        "                return d\n",
        "            d += 1\n",
        "\n",
        "    def get_grid(self, search=False):\n",
        "        \"\"\"Displays the maze\n",
        "        \"\"\"\n",
        "        # If free positions already found and shouldn't find them anew\n",
        "        #if self._grid and not search:\n",
        "        #    return self._grid\n",
        "        grid = []\n",
        "        for r in range(self.height):\n",
        "            grow = []\n",
        "            for c in range(self.width):\n",
        "                pos = (r, c)\n",
        "                if self.is_free(pos):\n",
        "                    grow.append(1)\n",
        "                else:\n",
        "                    grow.append(0)\n",
        "            grid.append(grow)\n",
        "        self._grid = grid\n",
        "        return grid\n",
        "\n",
        "    def display(self, prob=None, state=None):\n",
        "    \n",
        "      grid = self.get_grid()  \n",
        "      plt.imshow(self.get_grid(), cmap='gray', interpolation='nearest')\n",
        "\n",
        "      if prob:\n",
        "        for pos in self.get_free_positions():\n",
        "          grid[pos[0]][pos[1]] = grid[pos[0]][pos[1]] * prob[pos]\n",
        "        plt.imshow(grid, cmap='Purples', alpha=.7, interpolation='nearest')\n",
        "\n",
        "      if state:\n",
        "        plt.text(state[1],state[0], '*')\n",
        "\n",
        "      plt.show()\n",
        "\n",
        "class NearFarSensor:\n",
        "    \"\"\"Crude sensor measuring direction\"\"\"\n",
        "\n",
        "    VALUES = ['n', 'f']\n",
        "    DIST_OF_SURE_FAR = 4  # For this distance and larger, the sensor will surely return 'f'\n",
        "\n",
        "    def __init__(self, robot, direction):\n",
        "        \"\"\"Initialize sensor\n",
        "        \n",
        "        :param robot: Robot, to which this sensor belongs\n",
        "        :param direction: direction, 2-tuple, of the sensor\n",
        "        \"\"\"\n",
        "        self.robot = robot\n",
        "        self.dir = direction\n",
        "\n",
        "    def get_value_probabilities(self):\n",
        "        \"\"\"Return the probabilities of individual observations depending on robot position\"\"\"\n",
        "        dist = self.robot.get_dist_to_wall(self.dir)\n",
        "        p = {}\n",
        "        p['n'] = max([1 - dist/self.DIST_OF_SURE_FAR, 0])\n",
        "        p['f'] = 1 - p['n']\n",
        "        return p\n",
        "\n",
        "    def read(self):\n",
        "        \"\"\"Return a single sensor reading depending on robot position\"\"\"\n",
        "        p = self.get_value_probabilities()\n",
        "        return weighted_random_choice(p)\n"
      ]
    },
    {
      "cell_type": "code",
      "execution_count": 132,
      "metadata": {
        "id": "elib7dhfZMYA"
      },
      "outputs": [],
      "source": [
        "class Robot():\n",
        "    \"\"\"Robot in a maze as HMM\"\"\"\n",
        "\n",
        "    def __init__(self, sensor_directions=None, move_probs=None):\n",
        "        \"\"\"Initialize robot with sensors and transition model\n",
        "        \n",
        "        :param sensor_directions: list of directions of individual sensors\n",
        "        :param move_probs: distribution over move directions \n",
        "        \"\"\"\n",
        "        self.maze = None\n",
        "        self.position = None\n",
        "        if not sensor_directions:\n",
        "            sensor_directions = ALL_DIRS\n",
        "        self.sensors = []\n",
        "        for dir in sensor_directions:\n",
        "            self.sensors.append(NearFarSensor(robot=self, direction=dir))\n",
        "        self.move_probs = move_probs if move_probs else DEFAULT_MOVE_PROBS\n",
        "\n",
        "    def observe(self, state=None):\n",
        "        \"\"\"Perform single observation of all sensors\n",
        "        \n",
        "        :param state: robot state (position) for which the observation\n",
        "                      shall be made. If no state is given, the current \n",
        "                      robot position is used.\n",
        "        :return: tuple of individual sensor readings\n",
        "        \"\"\"\n",
        "        if not state:\n",
        "            return tuple(s.read() for s in self.sensors)\n",
        "        saved_pos = self.position\n",
        "        self.position = state\n",
        "        obs = self.observe()\n",
        "        self.position = saved_pos\n",
        "        return obs\n",
        "\n",
        "    def _next_move_dir(self):\n",
        "        \"\"\"Return the direction of next move\"\"\"\n",
        "        return weighted_random_choice(self.move_probs)\n",
        "\n",
        "    def get_dist_to_wall(self, dir, pos=None):\n",
        "        \"\"\"Return the distance to wall\"\"\"\n",
        "        if not pos:\n",
        "            pos = self.position\n",
        "        return self.maze.get_dist_to_wall(pos, dir)\n",
        "\n",
        "    def get_states(self):\n",
        "        \"\"\"Return the list of possible states\"\"\"\n",
        "        return self.maze.get_free_positions()\n",
        "\n",
        "    def get_targets(self, state):\n",
        "        \"\"\"Return the list of all states reachable in one step from the given state\"\"\"\n",
        "        tgts = [state]\n",
        "        for dir in ALL_DIRS:\n",
        "            next_state = add(state, dir)\n",
        "            if not self.maze.is_free(next_state): continue\n",
        "            tgts.append(next_state)\n",
        "        return tgts\n",
        "\n",
        "    def get_observations(self):\n",
        "        \"\"\"Return the list of all possible observations\"\"\"\n",
        "        sensor_domains = [s.VALUES for s in self.sensors]\n",
        "        return list(product(*sensor_domains))\n",
        "\n",
        "    def get_next_state_distr(self, cur_state):\n",
        "        \"\"\"Return the distribution over possible next states\n",
        "        \n",
        "        Takes the walls around current state into account.\n",
        "        \"\"\"\n",
        "        p = Counter()\n",
        "        for dir in ALL_DIRS:\n",
        "            next_state = add(cur_state, dir)\n",
        "            if not self.maze.is_free(next_state):\n",
        "                pass\n",
        "            else:\n",
        "                p[next_state] = self.move_probs[dir]\n",
        "        return normalized(p)\n",
        "\n",
        "    def pt(self, cur_state, next_state):\n",
        "        \"\"\"Return a single transition probability\"\"\"\n",
        "        p = self.get_next_state_distr(cur_state)\n",
        "        return p[next_state]\n",
        "\n",
        "    def pe(self, pos, obs):\n",
        "        \"\"\"Return the probability of observing obs in state pos\"\"\"\n",
        "        # Store current robot position and set a new one\n",
        "        stored_pos = self.position\n",
        "        self.position = pos\n",
        "        # Compute the probability of observation\n",
        "        p = 1\n",
        "        for sensor, value in zip(self.sensors, obs):\n",
        "            pd = sensor.get_value_probabilities()\n",
        "            p *= pd[value]\n",
        "        # Restore robot position\n",
        "        self.position = stored_pos\n",
        "        return p\n",
        "\n",
        "    def set_random_position(self):\n",
        "        \"\"\"Set the robot to a random admissible state\"\"\"\n",
        "        self.position = random.choice(self.maze.get_free_positions())\n",
        "\n",
        "    def step(self, state=None):\n",
        "        \"\"\"Generate a next state for the current state\"\"\"\n",
        "        if not state:\n",
        "            state = self.position\n",
        "        next_dist = {next_state: self.pt(state, next_state)\n",
        "                     for next_state in self.get_targets(state)}\n",
        "        # Sample from the distribution\n",
        "        next_pos =  weighted_random_choice(next_dist)\n",
        "        self.position = next_pos\n",
        "        return next_pos\n",
        "\n",
        "    def simulate(self, init_state=None, n_steps=5):\n",
        "        \"\"\"Perform several simulation steps starting from the given initial state\n",
        "\n",
        "        :return: 2-tuple, sequence of states, and sequence of observations\n",
        "        \"\"\"\n",
        "        if not init_state:\n",
        "            init_state = self.position\n",
        "        return self._simulate(init_state, n_steps)\n",
        "\n",
        "    def _simulate(self, init_state, n_steps):\n",
        "        \"\"\"Perform several simulation steps starting from the given initial state\n",
        "\n",
        "        :return: 2-tuple, sequence of states, and sequence of observations\n",
        "        \"\"\"\n",
        "        last_state = init_state\n",
        "        states, observations = [], []\n",
        "        for i in range(n_steps):\n",
        "            state = self.step(last_state)\n",
        "            observation = self.observe(state)\n",
        "            states.append(state)\n",
        "            observations.append(observation)\n",
        "            last_state = state\n",
        "        return states, observations\n",
        "\n"
      ]
    },
    {
      "cell_type": "markdown",
      "metadata": {
        "id": "f2yOjE8EnHst"
      },
      "source": [
        "## Class Maze\n",
        "Class Maze represents the maze a robot will be situated in. The representation of a maze is just a text file using '#' as the character for a wall, so that you can easilly\n",
        "create your own mazes. Some predefined mazes are provided with this file. Upload them to google colab. A maze can be loaded from\n",
        "a text file and printed/displayed.\n",
        "\n",
        "Among other things, you can also ask a maze object, whether a certain position is free or\n",
        "contains a wall, and what is the distance from certain position to the closest wall in certain\n",
        "direction (NORTH, EAST, SOUTH, and WEST are just symbolic names for direction vectors defined in the code above.\n"
      ]
    },
    {
      "cell_type": "code",
      "execution_count": 133,
      "metadata": {
        "colab": {
          "base_uri": "https://localhost:8080/",
          "height": 680
        },
        "id": "r04QwgpRnyBT",
        "outputId": "d76ee238-a40a-4087-8adc-48082c6688a3"
      },
      "outputs": [
        {
          "name": "stdout",
          "output_type": "stream",
          "text": [
            "##########\n",
            "#   #    #\n",
            "# # ###  #\n",
            "# #    # #\n",
            "##  ## # #\n",
            "#  # # # #\n",
            "## # #   #\n",
            "#    # # #\n",
            "# #  # # #\n",
            "##########\n"
          ]
        },
        {
          "data": {
            "image/png": "[encoded data removed]",
            "text/plain": [
              "<Figure size 640x480 with 1 Axes>"
            ]
          },
          "metadata": {},
          "output_type": "display_data"
        },
        {
          "name": "stdout",
          "output_type": "stream",
          "text": [
            "False\n",
            "True\n",
            "0\n"
          ]
        }
      ],
      "source": [
        "m = Maze('mazes/mazes/rect_8x8_maze.map')\n",
        "print(m)\n",
        "m.display()\n",
        "\n",
        "print(m.is_free((0,0)))\n",
        "print(m.is_wall((0,0)))\n",
        "print(m.get_dist_to_wall((1,1), NORTH))\n"
      ]
    },
    {
      "cell_type": "markdown",
      "metadata": {
        "id": "_DnLQPILon2m"
      },
      "source": [
        "## Class Robot\n",
        "Class Robot implements our HMM interface. It represents a robot that knows\n",
        "in what maze it is situated, knows its own position and provides its transition and emission\n",
        "models.\n",
        "\n",
        "The following code creates a robot, i.e. robot with near-far sensors in all 4 directions, and with\n",
        "0.25 probability of moving to each of the 4 directions. \n",
        "```\n",
        "robot = Robot()\n",
        "robot.maze = Maze('./rect_6x10_obstacles.map')\n",
        "robot.position = (1, 1) # start position\n",
        "```\n",
        "\n",
        "The robot takes a step and gets the observations from the sensor using \n",
        "```\n",
        "state = robot.step()\n",
        "observation = robot.observe(state)\n",
        "```\n",
        "\n",
        "The transition probability $P(X_t|X_{t-1})$ is obtained using\n",
        "```\n",
        "x0 = (1,1)\n",
        "x1 = (1,2)\n",
        "robot.pt(x0, x1) \n",
        "```\n",
        "The sensor model $P(E_t|X_t)$ is obtained using\n",
        "```\n",
        "robot.pe(state, observation)\n",
        "```"
      ]
    },
    {
      "cell_type": "code",
      "execution_count": 134,
      "metadata": {
        "colab": {
          "base_uri": "https://localhost:8080/",
          "height": 430
        },
        "id": "DiKhOk9CrueB",
        "outputId": "7a8d3faa-1813-4f41-b08d-4d281bb2046b"
      },
      "outputs": [
        {
          "data": {
            "image/png": "[encoded data removed]",
            "text/plain": [
              "<Figure size 640x480 with 1 Axes>"
            ]
          },
          "metadata": {},
          "output_type": "display_data"
        }
      ],
      "source": [
        "robot = Robot()\n",
        "robot.maze = Maze('mazes/mazes/rect_8x8_maze.map')\n",
        "robot.position = (1, 1) # start position\n",
        "robot.maze.display()"
      ]
    },
    {
      "cell_type": "markdown",
      "metadata": {
        "id": "FbZrmzWyryl-"
      },
      "source": [
        "## Homework Task\n",
        "Your task is to implement the filtering algorithm, i.e to compute the $P(X_t|E_{1:t})$\n",
        "\n",
        "You need to implement the function `forward` which implements the filtering algorithm and returns the probability for each free location as a python dictionary.\n",
        "```\n",
        "total_free_positions = len(robot.maze.get_free_positions())\n",
        "```\n",
        "The $P(X_0)$ is a uniform distribution computed as follows:\n",
        "```\n",
        "total_free_positions = len(robot.maze.get_free_positions())\n",
        "filt_prob = {x:1/total_free_positions for x in robot.maze.get_free_positions()}\n",
        "```"
      ]
    },
    {
      "cell_type": "code",
      "execution_count": 135,
      "metadata": {
        "id": "vBPoNScgsZ7X"
      },
      "outputs": [],
      "source": [
        "# input robot: robot in the maze instance\n",
        "# filt_prob: previous estimate of the location (P(X_t|e_1:t))\n",
        "# observation: current observation vector       \n",
        "def forward(robot, filt_prob, observation):\n",
        "    \n",
        "    # Get all free positions in the maze\n",
        "    all_free_positions = robot.maze.get_free_positions()\n",
        "    \n",
        "    # Calculate the predicted probability of being in each position\n",
        "    pred_prob = {}\n",
        "    for pos in all_free_positions:\n",
        "        # Calculate the probability of transitioning from each previous position to the current position\n",
        "        prob_sum = 0\n",
        "        for prev_pos in all_free_positions:\n",
        "            prob_sum += robot.pt(prev_pos, pos) * filt_prob[prev_pos]\n",
        "        # Multiply by the probability of the current observation given the current position\n",
        "        pred_prob[pos] = prob_sum * robot.pe(pos, observation)\n",
        "    \n",
        "    # Normalize the probabilities\n",
        "    s = sum(pred_prob.values())\n",
        "    filt_prob = {key: value / s for key, value in pred_prob.items()}\n",
        "\n",
        "    return filt_prob"
      ]
    },
    {
      "cell_type": "code",
      "execution_count": 136,
      "metadata": {
        "colab": {
          "base_uri": "https://localhost:8080/",
          "height": 430
        },
        "id": "kKKoee3xljSw",
        "outputId": "c763d0ef-193e-4e56-deba-8fed49e67f53"
      },
      "outputs": [
        {
          "data": {
            "image/png": "[encoded data removed]",
            "text/plain": [
              "<Figure size 640x480 with 1 Axes>"
            ]
          },
          "metadata": {},
          "output_type": "display_data"
        },
        {
          "data": {
            "image/png": "[encoded data removed]",
            "text/plain": [
              "<Figure size 640x480 with 1 Axes>"
            ]
          },
          "metadata": {},
          "output_type": "display_data"
        },
        {
          "data": {
            "image/png": "[encoded data removed]",
            "text/plain": [
              "<Figure size 640x480 with 1 Axes>"
            ]
          },
          "metadata": {},
          "output_type": "display_data"
        },
        {
          "data": {
            "image/png": "[encoded data removed]",
            "text/plain": [
              "<Figure size 640x480 with 1 Axes>"
            ]
          },
          "metadata": {},
          "output_type": "display_data"
        },
        {
          "data": {
            "image/png": "[encoded data removed]",
            "text/plain": [
              "<Figure size 640x480 with 1 Axes>"
            ]
          },
          "metadata": {},
          "output_type": "display_data"
        },
        {
          "data": {
            "image/png": "[encoded data removed]",
            "text/plain": [
              "<Figure size 640x480 with 1 Axes>"
            ]
          },
          "metadata": {},
          "output_type": "display_data"
        },
        {
          "data": {
            "image/png": "[encoded data removed]",
            "text/plain": [
              "<Figure size 640x480 with 1 Axes>"
            ]
          },
          "metadata": {},
          "output_type": "display_data"
        },
        {
          "data": {
            "image/png": "[encoded data removed]",
            "text/plain": [
              "<Figure size 640x480 with 1 Axes>"
            ]
          },
          "metadata": {},
          "output_type": "display_data"
        },
        {
          "data": {
            "image/png": "[encoded data removed]",
            "text/plain": [
              "<Figure size 640x480 with 1 Axes>"
            ]
          },
          "metadata": {},
          "output_type": "display_data"
        },
        {
          "data": {
            "image/png": "[encoded data removed]",
            "text/plain": [
              "<Figure size 640x480 with 1 Axes>"
            ]
          },
          "metadata": {},
          "output_type": "display_data"
        }
      ],
      "source": [
        "# uniform distribution for all free positions (prior belief)\n",
        "total_free_positions = len(robot.maze.get_free_positions())\n",
        "filt_prob = {x:1/total_free_positions for x in robot.maze.get_free_positions()}\n",
        "\n",
        "#robot.position = (1, 1)\n",
        "#state = robot.step()\n",
        "\n",
        "#Simulate 10 steps\n",
        "for i in range(10):\n",
        "  # display\n",
        "  \n",
        "  observation = robot.observe(state) \n",
        "  state = robot.step()\n",
        "  \n",
        "  robot.maze.display(filt_prob, state)\n",
        "  \n",
        "  # The function forward implements the filtering algorihtm and returns the probability for each free location as a dictionary\n",
        "  filt_prob = forward(robot, filt_prob, observation)\n",
        "  \n",
        "  \n",
        "  \n",
        "  "
      ]
    }
  ],
  "metadata": {
    "colab": {
      "provenance": []
    },
    "kernelspec": {
      "display_name": "Python 3",
      "name": "python3"
    },
    "language_info": {
      "codemirror_mode": {
        "name": "ipython",
        "version": 3
      },
      "file_extension": ".py",
      "mimetype": "text/x-python",
      "name": "python",
      "nbconvert_exporter": "python",
      "pygments_lexer": "ipython3",
      "version": "3.11.0"
    }
  },
  "nbformat": 4,
  "nbformat_minor": 0
}
